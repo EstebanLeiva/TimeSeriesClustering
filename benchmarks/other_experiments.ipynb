{
 "cells": [
  {
   "cell_type": "code",
   "execution_count": 90,
   "metadata": {},
   "outputs": [],
   "source": [
    "from aeon.datasets import load_classification\n",
    "import numpy as np\n",
    "from sklearn.kernel_ridge import KernelRidge\n",
    "from sklearn.model_selection import train_test_split\n",
    "from sklearn_extra.cluster import KMedoids\n",
    "from scipy.optimize import minimize\n",
    "from statsmodels.nonparametric.kernel_regression import KernelReg\n",
    "from skfda.preprocessing.smoothing import KernelSmoother\n",
    "from skfda.misc.hat_matrix import (\n",
    "    KNeighborsHatMatrix,\n",
    "    LocalLinearRegressionHatMatrix,\n",
    "    NadarayaWatsonHatMatrix,\n",
    ")\n",
    "from skfda import FDataGrid\n",
    "from scipy.spatial.distance import euclidean\n",
    "from fastdtw import fastdtw"
   ]
  },
  {
   "cell_type": "code",
   "execution_count": 91,
   "metadata": {},
   "outputs": [],
   "source": [
    "X, y = load_classification(\"Coffee\")\n",
    "X_train, X_test, y_train, y_test = train_test_split(X, y, test_size=0.2, random_state=42)"
   ]
  },
  {
   "cell_type": "code",
   "execution_count": 92,
   "metadata": {},
   "outputs": [],
   "source": [
    "X_train = X_train.reshape(X_train.shape[0], -1)\n",
    "y_train = y_train.reshape(y_train.shape[0], -1)\n",
    "X_test = X_test.reshape(X_test.shape[0], -1)\n",
    "y_test = y_test.reshape(y_test.shape[0], -1)"
   ]
  },
  {
   "cell_type": "code",
   "execution_count": 100,
   "metadata": {},
   "outputs": [
    {
     "data": {
      "text/plain": [
       "(286,)"
      ]
     },
     "execution_count": 100,
     "metadata": {},
     "output_type": "execute_result"
    }
   ],
   "source": [
    "X_train[0].shape"
   ]
  },
  {
   "cell_type": "code",
   "execution_count": 119,
   "metadata": {},
   "outputs": [],
   "source": [
    "def smooth(X, bandwidth):\n",
    "    smoother = KernelSmoother(NadarayaWatsonHatMatrix(bandwidth=bandwidth))\n",
    "    X_smooth = np.zeros(X.shape)\n",
    "    for i in range(X.shape[0]):\n",
    "        ts = FDataGrid(X[i])\n",
    "        X_smooth[i] = smoother.fit_transform(ts).data_matrix.reshape(X.shape[1])\n",
    "    return X_smooth\n",
    "\n",
    "def get_dissimilarity_matrix(X):\n",
    "    dissimilarity_matrix = np.zeros((X.shape[0], X.shape[0]))\n",
    "    for i in range(X.shape[0]):\n",
    "        for j in range(X.shape[0]):\n",
    "            #dissimilarity_matrix[i, j] = np.linalg.norm(X[i] - X[j])\n",
    "            dissimilarity_matrix[i, j], _ = fastdtw(X[i], X[j], dist=2)\n",
    "    return dissimilarity_matrix\n",
    "\n",
    "def kernel_clustering(X, lmbda, n_clusters):\n",
    "    X_smooth = smooth(X, lmbda)\n",
    "    dissimilarity_matrix = get_dissimilarity_matrix(X_smooth)\n",
    "    kmedoids = KMedoids(n_clusters=n_clusters, metric=\"precomputed\", random_state=42)\n",
    "    kmedoids.fit(dissimilarity_matrix)\n",
    "    return kmedoids.inertia_ + abs(lmbda), kmedoids.labels_, kmedoids.cluster_centers_\n",
    "\n",
    "def optimize_lambda(X, n_clusters):\n",
    "    def objective(lmbda):\n",
    "        return kernel_clustering(X, lmbda, n_clusters)[0]\n",
    "    \n",
    "    initial_lambda = 0.2\n",
    "    bounds = [(0.05, 2.0)]\n",
    "\n",
    "    result = minimize(objective, initial_lambda, method='Nelder-Mead', bounds=bounds)\n",
    "    \n",
    "    return result.x[0], result.fun"
   ]
  },
  {
   "cell_type": "code",
   "execution_count": 120,
   "metadata": {},
   "outputs": [],
   "source": [
    "optimal_lambda, optimal_loss = optimize_lambda(X_train, 2)"
   ]
  },
  {
   "cell_type": "code",
   "execution_count": 122,
   "metadata": {},
   "outputs": [],
   "source": [
    "loss, clustering, centers = kernel_clustering(X_train, optimal_lambda, 2)"
   ]
  },
  {
   "cell_type": "code",
   "execution_count": 124,
   "metadata": {},
   "outputs": [
    {
     "data": {
      "text/plain": [
       "0.6162790697674418"
      ]
     },
     "execution_count": 124,
     "metadata": {},
     "output_type": "execute_result"
    }
   ],
   "source": [
    "from sklearn.metrics.cluster import rand_score\n",
    "y_train = y_train.reshape(-1)\n",
    "rand_score(clustering, y_train)"
   ]
  }
 ],
 "metadata": {
  "kernelspec": {
   "display_name": "venv",
   "language": "python",
   "name": "python3"
  },
  "language_info": {
   "codemirror_mode": {
    "name": "ipython",
    "version": 3
   },
   "file_extension": ".py",
   "mimetype": "text/x-python",
   "name": "python",
   "nbconvert_exporter": "python",
   "pygments_lexer": "ipython3",
   "version": "3.10.11"
  }
 },
 "nbformat": 4,
 "nbformat_minor": 2
}
